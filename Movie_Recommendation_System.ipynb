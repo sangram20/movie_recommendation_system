{
  "nbformat": 4,
  "nbformat_minor": 0,
  "metadata": {
    "colab": {
      "provenance": []
    },
    "kernelspec": {
      "name": "python3",
      "display_name": "Python 3"
    },
    "language_info": {
      "name": "python"
    }
  },
  "cells": [
    {
      "cell_type": "code",
      "execution_count": 115,
      "metadata": {
        "id": "QSjdubNouWn3"
      },
      "outputs": [],
      "source": [
        "import numpy as np\n",
        "import pandas as pd"
      ]
    },
    {
      "cell_type": "code",
      "source": [
        "credits_df=pd.read_csv(\"credits.csv\")\n",
        "movies_df=pd.read_csv(\"movies.csv\")"
      ],
      "metadata": {
        "id": "aLsczrLIvI9-"
      },
      "execution_count": 116,
      "outputs": []
    },
    {
      "cell_type": "code",
      "source": [
        "credits_df"
      ],
      "metadata": {
        "id": "IREvrtzuxX3n"
      },
      "execution_count": null,
      "outputs": []
    },
    {
      "cell_type": "code",
      "source": [
        "movies_df"
      ],
      "metadata": {
        "id": "T1Cf5GcUvJTu"
      },
      "execution_count": null,
      "outputs": []
    },
    {
      "cell_type": "code",
      "source": [
        "movies_df=movies_df.merge(credits_df,on='title')"
      ],
      "metadata": {
        "id": "ymBB7PxcxHId"
      },
      "execution_count": 119,
      "outputs": []
    },
    {
      "cell_type": "code",
      "source": [
        "movies_df.info()"
      ],
      "metadata": {
        "id": "OgPWr-sExlkD"
      },
      "execution_count": null,
      "outputs": []
    },
    {
      "cell_type": "code",
      "source": [
        "movies_df=movies_df[['movie_id','title','overview','genres','keywords','crew']]"
      ],
      "metadata": {
        "id": "taANdm8Xyn63"
      },
      "execution_count": 121,
      "outputs": []
    },
    {
      "cell_type": "code",
      "source": [
        "movies_df.head()"
      ],
      "metadata": {
        "id": "5ap6SL9bzQdE"
      },
      "execution_count": null,
      "outputs": []
    },
    {
      "cell_type": "code",
      "source": [
        "movies_df.info()"
      ],
      "metadata": {
        "id": "MuTir4CR0Jtd"
      },
      "execution_count": null,
      "outputs": []
    },
    {
      "cell_type": "code",
      "source": [
        "movies_df.isnull().sum()"
      ],
      "metadata": {
        "id": "LdSkINdX0OAt"
      },
      "execution_count": null,
      "outputs": []
    },
    {
      "cell_type": "code",
      "source": [
        "movies_df.dropna(inplace=True)   # dropna will drop all missing values from original dataset"
      ],
      "metadata": {
        "id": "gtHd9gKq0Ydh"
      },
      "execution_count": 125,
      "outputs": []
    },
    {
      "cell_type": "code",
      "source": [
        "movies_df.duplicated().sum()"
      ],
      "metadata": {
        "id": "sTqeQHIv02P8"
      },
      "execution_count": null,
      "outputs": []
    },
    {
      "cell_type": "code",
      "source": [
        "movies_df.iloc[0].genres"
      ],
      "metadata": {
        "id": "aGXO84_z02pG"
      },
      "execution_count": null,
      "outputs": []
    },
    {
      "cell_type": "code",
      "source": [
        "import ast #abstract syntax tree"
      ],
      "metadata": {
        "id": "BvYcoHdM1iEy"
      },
      "execution_count": 128,
      "outputs": []
    },
    {
      "cell_type": "code",
      "source": [
        "def convert (obj):\n",
        "  L=[]\n",
        "  for i in ast.literal_eval(obj):\n",
        "    L.append(i['name'])\n",
        "  return L        # to convert dataset into structured way - genres & keyword"
      ],
      "metadata": {
        "id": "ARVnW5CF2HKn"
      },
      "execution_count": 129,
      "outputs": []
    },
    {
      "cell_type": "code",
      "source": [
        "movies_df['genres']=movies_df['genres'].apply(convert)\n",
        "movies_df['keywords']=movies_df['keywords'].apply(convert)"
      ],
      "metadata": {
        "id": "kcM_h6jo2fOK"
      },
      "execution_count": 130,
      "outputs": []
    },
    {
      "cell_type": "code",
      "source": [
        "def convert3(obj):\n",
        "  L=[]\n",
        "  counter=0\n",
        "  for i in ast.literal_eval(obj):\n",
        "    if counter !=3:\n",
        "      L.append(i['name'])\n",
        "      counter +=1\n",
        "    else:\n",
        "      break\n",
        "    return L    # to convert dataset into structured way - cast"
      ],
      "metadata": {
        "id": "N1nSm8nf3VZN"
      },
      "execution_count": 131,
      "outputs": []
    },
    {
      "cell_type": "code",
      "source": [
        "#movies_df['cast']=movies_df['cast'].apply(convert3)"
      ],
      "metadata": {
        "id": "i4RQpMKN5OHD"
      },
      "execution_count": 71,
      "outputs": []
    },
    {
      "cell_type": "code",
      "source": [
        "def fetch_director(obj):\n",
        "  L=[]\n",
        "  for i in ast.literal_eval(obj):\n",
        "    if i['job'] == 'Director':\n",
        "      L.append(i['name'])\n",
        "  return L    # to convert dataset into structured way - crew"
      ],
      "metadata": {
        "id": "UejLvpuT6HOl"
      },
      "execution_count": 132,
      "outputs": []
    },
    {
      "cell_type": "code",
      "source": [
        "movies_df['crew'] = movies_df['crew'].apply(fetch_director)"
      ],
      "metadata": {
        "id": "DNSNbeMi6qBN"
      },
      "execution_count": 133,
      "outputs": []
    },
    {
      "cell_type": "code",
      "source": [
        "movies_df['overview'] = movies_df['overview'].apply(lambda x:x.split())   # to separate each word from sentence"
      ],
      "metadata": {
        "id": "xgz-x_uS7-t0"
      },
      "execution_count": 134,
      "outputs": []
    },
    {
      "cell_type": "code",
      "source": [
        "movies_df['genres']=movies_df['genres'].apply(lambda x:[i.replace(\" \",\"\") for i in x])"
      ],
      "metadata": {
        "id": "y-b90fqq_Emp"
      },
      "execution_count": 135,
      "outputs": []
    },
    {
      "cell_type": "code",
      "source": [
        "movies_df['keywords']=movies_df['keywords'].apply(lambda x:[i.replace(\" \",\"\") for i in x])"
      ],
      "metadata": {
        "id": "RvxLhJ8z_E3o"
      },
      "execution_count": 136,
      "outputs": []
    },
    {
      "cell_type": "code",
      "source": [
        "#movies_df['cast'] = movies_df['cast'].apply(lambda x: [i.replace(\" \", \"\") if isinstance(i, str) else i for i in x])"
      ],
      "metadata": {
        "id": "AiyisszV_FGp"
      },
      "execution_count": 105,
      "outputs": []
    },
    {
      "cell_type": "code",
      "source": [
        "movies_df['crew']=movies_df['crew'].apply(lambda x:[i.replace(\" \",\"\") for i in x])    # to remove space for beteer recommendation"
      ],
      "metadata": {
        "id": "1EspWARV9CHe"
      },
      "execution_count": 137,
      "outputs": []
    },
    {
      "cell_type": "code",
      "source": [
        "movies_df['tag']=movies_df['overview']+movies_df['genres']+movies_df['keywords']+movies_df['crew']"
      ],
      "metadata": {
        "id": "z8k3koLiA9Hk"
      },
      "execution_count": 138,
      "outputs": []
    },
    {
      "cell_type": "code",
      "source": [
        "new_df=movies_df[['movie_id','title','tag']]"
      ],
      "metadata": {
        "id": "eEH33ziT50Jy"
      },
      "execution_count": 139,
      "outputs": []
    },
    {
      "cell_type": "code",
      "source": [
        "new_df['tag']=new_df['tag'].apply(lambda x:' '.join(x))   #remove square[] brackets"
      ],
      "metadata": {
        "id": "iIxSoDXOYp-S"
      },
      "execution_count": null,
      "outputs": []
    },
    {
      "cell_type": "code",
      "source": [
        "new_df['tag']=new_df['tag'].apply(lambda X:X.lower())     #convert to lower case for better prediction"
      ],
      "metadata": {
        "id": "5bZHztUWZae8"
      },
      "execution_count": null,
      "outputs": []
    },
    {
      "cell_type": "code",
      "source": [
        "from sklearn.feature_extraction.text import CountVectorizer, TfidfVectorizer\n",
        "cv = CountVectorizer(max_features=5000, stop_words='english')\n",
        "tfidf = TfidfVectorizer(stop_words='english')"
      ],
      "metadata": {
        "id": "aOCgWIsCbaEq"
      },
      "execution_count": 142,
      "outputs": []
    },
    {
      "cell_type": "code",
      "source": [
        "cv.fit_transform(new_df['tag']).toarray().shape"
      ],
      "metadata": {
        "id": "qdozM4YIbZ5u"
      },
      "execution_count": null,
      "outputs": []
    },
    {
      "cell_type": "code",
      "source": [
        "vectors = tfidf.fit_transform(new_df['tag']).toarray()\n",
        "vectors[0]"
      ],
      "metadata": {
        "id": "m5f6XSScbZqf"
      },
      "execution_count": null,
      "outputs": []
    },
    {
      "cell_type": "code",
      "source": [
        "len(cv.get_feature_names_out())"
      ],
      "metadata": {
        "id": "gcq9n8bLds8c"
      },
      "execution_count": null,
      "outputs": []
    },
    {
      "cell_type": "code",
      "source": [
        "import nltk\n",
        "from nltk.stem.porter import PorterStemmer\n",
        "\n",
        "ps = PorterStemmer()"
      ],
      "metadata": {
        "id": "t1sOjeGPds2h"
      },
      "execution_count": 147,
      "outputs": []
    },
    {
      "cell_type": "code",
      "source": [
        "def stem(text):\n",
        "    y = []\n",
        "    for i in text.split():\n",
        "        y.append(ps.stem(i))\n",
        "    return \" \".join(y)"
      ],
      "metadata": {
        "id": "tkBcqYsNdsw9"
      },
      "execution_count": 148,
      "outputs": []
    },
    {
      "cell_type": "code",
      "source": [
        "new_df['tag'] = new_df['tag'].apply(stem)"
      ],
      "metadata": {
        "id": "dYWqpztsdsrN"
      },
      "execution_count": null,
      "outputs": []
    },
    {
      "cell_type": "code",
      "source": [
        "from sklearn.metrics.pairwise import cosine_similarity"
      ],
      "metadata": {
        "id": "eGY5RAnIdslq"
      },
      "execution_count": 150,
      "outputs": []
    },
    {
      "cell_type": "code",
      "source": [
        "cosine_similarity(vectors)"
      ],
      "metadata": {
        "id": "axXnL-qTdsgY"
      },
      "execution_count": null,
      "outputs": []
    },
    {
      "cell_type": "code",
      "source": [
        "cosine_similarity(vectors).shape"
      ],
      "metadata": {
        "id": "fZsg-JNxdsac"
      },
      "execution_count": null,
      "outputs": []
    },
    {
      "cell_type": "code",
      "source": [
        "similarity = cosine_similarity(vectors)"
      ],
      "metadata": {
        "id": "QMEOdXdFeHxA"
      },
      "execution_count": 153,
      "outputs": []
    },
    {
      "cell_type": "code",
      "source": [
        "similarity[0]"
      ],
      "metadata": {
        "id": "DlNyuvhZeHsN"
      },
      "execution_count": null,
      "outputs": []
    },
    {
      "cell_type": "code",
      "source": [
        "similarity[0].shape"
      ],
      "metadata": {
        "id": "2Cz8KQ9jeHoZ"
      },
      "execution_count": null,
      "outputs": []
    },
    {
      "cell_type": "code",
      "source": [
        "sorted(list(enumerate(similarity[0])), reverse=True, key=lambda x:x[1])[1:6]"
      ],
      "metadata": {
        "id": "dK1B-NUfeHjL"
      },
      "execution_count": null,
      "outputs": []
    },
    {
      "cell_type": "code",
      "source": [
        "def recommend(movie):\n",
        "    movie_index = new_df[new_df['title'].apply(lambda x:x.lower())==movie.lower()].index[0]\n",
        "    distances = similarity[movie_index]\n",
        "    movie_list = sorted(list(enumerate(distances)), reverse=True, key=lambda x:x[1])[1:6]\n",
        "\n",
        "    for i in movie_list:\n",
        "        print(new_df.iloc[i[0]].title)"
      ],
      "metadata": {
        "id": "z5WUPxIGeHgC"
      },
      "execution_count": 157,
      "outputs": []
    },
    {
      "cell_type": "code",
      "source": [
        "recommend('Iron Man')"
      ],
      "metadata": {
        "id": "lYns0WR3eblo"
      },
      "execution_count": null,
      "outputs": []
    },
    {
      "cell_type": "code",
      "source": [
        "recommend('Avatar')"
      ],
      "metadata": {
        "id": "4fIkgEWCfbwf"
      },
      "execution_count": null,
      "outputs": []
    },
    {
      "cell_type": "code",
      "source": [
        "recommend('Aliens')"
      ],
      "metadata": {
        "id": "nusS4Ke2fv77"
      },
      "execution_count": null,
      "outputs": []
    }
  ]
}